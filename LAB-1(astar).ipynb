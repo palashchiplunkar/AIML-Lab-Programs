{
 "cells": [
  {
   "cell_type": "code",
   "execution_count": 10,
   "id": "b3037102",
   "metadata": {},
   "outputs": [
    {
     "name": "stdout",
     "output_type": "stream",
     "text": [
      "Path Found :  ['A', 'E', 'D', 'G']\n"
     ]
    },
    {
     "data": {
      "text/plain": [
       "['A', 'E', 'D', 'G']"
      ]
     },
     "execution_count": 10,
     "metadata": {},
     "output_type": "execute_result"
    }
   ],
   "source": [
    "def aStarAlgo(st,goal):\n",
    "    open_set=set(st)\n",
    "    close_set=set()\n",
    "    g={}\n",
    "    parents={}\n",
    "    g[st]=0\n",
    "    parents[st]=st\n",
    "    \n",
    "    while len(open_set)>0:\n",
    "        n=None\n",
    "        for v in open_set:\n",
    "            if n==None or g[v]+h(v)<g[n]+h(n):\n",
    "                n=v\n",
    "        \n",
    "        if n==goal or graph_nodes[n]==None:\n",
    "            pass\n",
    "        else:\n",
    "            for (m,weights) in get_neighbors(n):\n",
    "                if m not in open_set and m not in close_set:\n",
    "                    open_set.add(m)\n",
    "                    parents[m]=n\n",
    "                    g[m]=g[n]+weights\n",
    "                else:\n",
    "                    if g[m]>g[n]+weights:\n",
    "                        g[m]=g[n]+weights\n",
    "                        parents[m]=n\n",
    "                        if m in close_set:\n",
    "                            close_set.remove(m)\n",
    "                            open_set.add(m)\n",
    "        if n==None:\n",
    "            print(\"Path not found\")\n",
    "            return None\n",
    "        if n==goal:\n",
    "            path=[]\n",
    "            while parents[n]!=n:\n",
    "                path.append(n)\n",
    "                n=parents[n]\n",
    "            path.append(st)\n",
    "            path.reverse()\n",
    "            \n",
    "            print(\"Path Found : \",path)\n",
    "            return path\n",
    "        close_set.add(n)\n",
    "        open_set.remove(n)\n",
    "    print('Path not found')\n",
    "    return None\n",
    "\n",
    "def get_neighbors(n):\n",
    "    if n in graph_nodes:\n",
    "        return graph_nodes[n]\n",
    "    else:\n",
    "        return None\n",
    "def h(n):\n",
    "    h_values={\n",
    "        'A': 11,\n",
    "            'B': 6,\n",
    "            'C': 99,\n",
    "            'D': 1,\n",
    "            'E': 7,\n",
    "            'G': 0,\n",
    "    }\n",
    "    return h_values[n]\n",
    "graph_nodes = {\n",
    "    'A': [('B', 2), ('E', 3)],\n",
    "    'B': [('C', 1),('G', 9)],\n",
    "    'C': None,\n",
    "    'E': [('D', 6)],\n",
    "    'D': [('G', 1)],\n",
    "     \n",
    "}\n",
    "aStarAlgo('A', 'G')\n",
    "        \n",
    "            "
   ]
  },
  {
   "cell_type": "code",
   "execution_count": null,
   "id": "6b222110",
   "metadata": {},
   "outputs": [],
   "source": []
  },
  {
   "cell_type": "code",
   "execution_count": null,
   "id": "c7556d30",
   "metadata": {},
   "outputs": [],
   "source": []
  },
  {
   "cell_type": "code",
   "execution_count": null,
   "id": "b8240595",
   "metadata": {},
   "outputs": [],
   "source": []
  }
 ],
 "metadata": {
  "kernelspec": {
   "display_name": "Python 3 (ipykernel)",
   "language": "python",
   "name": "python3"
  },
  "language_info": {
   "codemirror_mode": {
    "name": "ipython",
    "version": 3
   },
   "file_extension": ".py",
   "mimetype": "text/x-python",
   "name": "python",
   "nbconvert_exporter": "python",
   "pygments_lexer": "ipython3",
   "version": "3.9.7"
  }
 },
 "nbformat": 4,
 "nbformat_minor": 5
}
